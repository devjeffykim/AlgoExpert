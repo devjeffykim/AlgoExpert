{
 "cells": [
  {
   "cell_type": "markdown",
   "metadata": {},
   "source": [
    "<h2 class=\"_27RQhffTaFQe6k_RxE_LIn\">Linked List Construction<div class=\"ukV2-g8JsOM2CBDXGsv_i _2xaYwuLVhuHRlQkwIAf4ua\" data-tip=\"No Tests Passed\" currentitem=\"false\"></div><svg viewBox=\"0 0 16 16\" fill=\"currentColor\" xmlns=\"http://www.w3.org/2000/svg\" class=\"_1FT1hvDqOXj62yVSkzpBT0\"><path d=\"M12.821 16a.5.5 0 01-.203-.043L8 13.901l-4.618 2.056a.501.501 0 01-.694-.556L3.707 10.3.147 6.732a.502.502 0 01.255-.845l5.103-1.023L7.543.272c.16-.362.753-.362.914 0l2.037 4.592 5.104 1.023a.5.5 0 01.255.845l-3.56 3.567L13.31 15.4a.5.5 0 01-.49.6zM8 12.852c.069 0 .138.015.203.043l3.938 1.754-.882-4.417a.502.502 0 01.137-.452l3.09-3.094-4.441-.89a.5.5 0 01-.36-.288L8 1.708l-1.686 3.8a.5.5 0 01-.36.288l-4.44.89 3.09 3.094c.117.118.169.288.136.452l-.882 4.417 3.939-1.754A.497.497 0 018 12.852z\"></path></svg></h2>\n",
    "<div class=\"_2jZTzmL4QeyFli2evn3qXg\"><p>\n",
    "  Write a <span>DoublyLinkedList</span> class that has a <span>head</span> and a\n",
    "  <span>tail</span>, both of which point to either a linked list\n",
    "  <span>Node</span> or <span>None</span> / <span>null</span>. The class should\n",
    "  support:\n",
    "</p>\n",
    "<ul>\n",
    "  <li>\n",
    "    - Setting the head and tail of the linked list.\n",
    "  </li>\n",
    "  <li>\n",
    "    - Inserting nodes before and after other nodes as well as at given\n",
    "    positions.\n",
    "  </li>\n",
    "  <li>- Removing given nodes and removing nodes with given values;</li>\n",
    "  <li>- Searching for nodes with given values.</li>\n",
    "</ul>\n",
    "<p>\n",
    "  Each <span>Node</span> has an integer <span>value</span> as well as a\n",
    "  <span>prev</span> node and a <span>next</span> node, both of which can point\n",
    "  to either another node or <span>None</span> / <span>null</span>.\n",
    "</p>\n",
    "<h3>Sample Usage</h3>\n",
    "<pre><span class=\"CodeEditor-promptComment\">// Assume the following linked list has already been created:</span>\n",
    "1 &lt;-&gt; 2 &lt;-&gt; 3 &lt;-&gt; 4 &lt;-&gt; 5\n",
    "<span class=\"CodeEditor-promptParameter\">setHead</span>(4): 4 &lt;-&gt; 1 &lt;-&gt; 2 &lt;-&gt; 3 &lt;-&gt; 5 <span class=\"CodeEditor-promptComment\">// set the existing node with value 4 as the head</span>\n",
    "<span class=\"CodeEditor-promptParameter\">setTail</span>(6): 4 &lt;-&gt; 1 &lt;-&gt; 2 &lt;-&gt; 3 &lt;-&gt; 5 &lt;-&gt; 6 <span class=\"CodeEditor-promptComment\">// set the existing node with value 6 as the tail</span>\n",
    "<span class=\"CodeEditor-promptParameter\">insertBefore</span>(6, 3): 4 &lt;-&gt; 1 &lt;-&gt; 2 &lt;-&gt; 5 &lt;-&gt; 3 &lt;-&gt; 6 <span class=\"CodeEditor-promptComment\">// move the existing node with value 3 before the existing node with value 6</span>\n",
    "<span class=\"CodeEditor-promptParameter\">insertAfter</span>(6, 3): 4 &lt;-&gt; 1 &lt;-&gt; 2 &lt;-&gt; 5 &lt;-&gt; 3 &lt;-&gt; 6 &lt;-&gt; 3 <span class=\"CodeEditor-promptComment\">// insert a new node with value 3 after the existing node with value 6</span>\n",
    "<span class=\"CodeEditor-promptParameter\">insertAtPosition</span>(1, 3): 3 &lt;-&gt; 4 &lt;-&gt; 1 &lt;-&gt; 2 &lt;-&gt; 5 &lt;-&gt; 3 &lt;-&gt; 6 &lt;-&gt; 3 <span class=\"CodeEditor-promptComment\">// insert a new node with value 3 in position 1</span>\n",
    "<span class=\"CodeEditor-promptParameter\">removeNodesWithValue</span>(3): 4 &lt;-&gt; 1 &lt;-&gt; 2 &lt;-&gt; 5 &lt;-&gt; 6 <span class=\"CodeEditor-promptComment\">// remove all nodes with value 3</span>\n",
    "<span class=\"CodeEditor-promptParameter\">remove</span>(2): 4 &lt;-&gt; 1 &lt;-&gt; 5 &lt;-&gt; 6 <span class=\"CodeEditor-promptComment\">// remove the existing node with value 2</span>\n",
    "<span class=\"CodeEditor-promptParameter\">containsNodeWithValue</span>(5): true\n",
    "</pre>\n",
    "</div>"
   ]
  },
  {
   "cell_type": "markdown",
   "metadata": {},
   "source": [
    "<div class=\"aHEBHnsEqYwHLYwlr4lZg\"><h3 class=\"_17HgLmZQsO1vweWcAMvE31\">Hints</h3><div class=\"_1CnYFH5mCs_em2ULQwl3b6\"><div class=\"\n",
    "      _1VvXmFnpq4iPxDhESut7pI\n",
    "      _1HKN-_bYEv_Mc-d8YNb5X_\n",
    "      \n",
    "      _1Icx8UayAmZ4bQMZW88CfA\" tabindex=\"0\"><div class=\"\n",
    "      _33sd_eSCKqK8t8nNq3LSLo\n",
    "      _3iUxNLNNLGrkmHHXfoMl3k\"><div class=\"ZJR57Wab0YgvbpuaANvGk\">Hint 1</div><svg xmlns=\"http://www.w3.org/2000/svg\" fill=\"currentColor\" viewBox=\"0 0 292.362 292.362\" class=\"_15dTgu9THhTaL48TdTx2k3 _2rzizu_ekaPdwoD6PCvMPH\"><path d=\"M286.935 69.377c-3.614-3.617-7.898-5.424-12.848-5.424H18.274c-4.952 0-9.233 1.807-12.85 5.424C1.807 72.998 0 77.279 0 82.228c0 4.948 1.807 9.229 5.424 12.847l127.907 127.907c3.621 3.617 7.902 5.428 12.85 5.428s9.233-1.811 12.847-5.428L286.935 95.074c3.613-3.617 5.427-7.898 5.427-12.847 0-4.948-1.814-9.229-5.427-12.85z\"></path></svg></div><div class=\"zivFQjmC9WqYkXdfV0yzj\" style=\"transition-duration: 0.4s; height: auto;\"><div class=\"muXRMGb-AUwxOj6rJFfLo\"><p class=\"_3nVuYIxRwVvifJRcbJqRO7\">When dealing with linked lists, it's very important to keep track of pointers on nodes (i.e., the \"next\" and \"prev\" properties on the nodes). For instance, if you're inserting a node in a linked list, but that node is already located somewhere else in the linked list (in other words, if you're moving a node), it's crucial to completely update the pointers of the adjacent nodes of the node being moved before updating the node's own pointers. The order in which you update nodes' pointers will make or break your algorithm.</p></div></div></div></div><div class=\"_1CnYFH5mCs_em2ULQwl3b6\"><div class=\"\n",
    "      _1VvXmFnpq4iPxDhESut7pI\n",
    "      _1HKN-_bYEv_Mc-d8YNb5X_\n",
    "      \n",
    "      \" tabindex=\"0\"><div class=\"\n",
    "      _33sd_eSCKqK8t8nNq3LSLo\n",
    "      _3iUxNLNNLGrkmHHXfoMl3k\"><div class=\"ZJR57Wab0YgvbpuaANvGk\">Hint 2</div><svg xmlns=\"http://www.w3.org/2000/svg\" fill=\"currentColor\" viewBox=\"0 0 292.362 292.362\" class=\"_15dTgu9THhTaL48TdTx2k3 \"><path d=\"M286.935 69.377c-3.614-3.617-7.898-5.424-12.848-5.424H18.274c-4.952 0-9.233 1.807-12.85 5.424C1.807 72.998 0 77.279 0 82.228c0 4.948 1.807 9.229 5.424 12.847l127.907 127.907c3.621 3.617 7.902 5.428 12.85 5.428s9.233-1.811 12.847-5.428L286.935 95.074c3.613-3.617 5.427-7.898 5.427-12.847 0-4.948-1.814-9.229-5.427-12.85z\"></path></svg></div><div class=\"zivFQjmC9WqYkXdfV0yzj\"><div class=\"muXRMGb-AUwxOj6rJFfLo\"><p class=\"_3nVuYIxRwVvifJRcbJqRO7\">Realize that the insertBefore() and insertAfter() methods can be used to implement the setHead(), setTail(), and insertAtPosition() methods; making the insertBefore() and insertAfter() methods as robust as possible will simplify your code for the other methods. Make sure to take care of edge cases involving inserting nodes before the head of the linked list or inserting nodes after the tail of the linked list.</p></div></div></div></div><div class=\"_1CnYFH5mCs_em2ULQwl3b6\"><div class=\"\n",
    "      _1VvXmFnpq4iPxDhESut7pI\n",
    "      _1HKN-_bYEv_Mc-d8YNb5X_\n",
    "      \n",
    "      \" tabindex=\"0\"><div class=\"\n",
    "      _33sd_eSCKqK8t8nNq3LSLo\n",
    "      _3iUxNLNNLGrkmHHXfoMl3k\"><div class=\"ZJR57Wab0YgvbpuaANvGk\">Hint 3</div><svg xmlns=\"http://www.w3.org/2000/svg\" fill=\"currentColor\" viewBox=\"0 0 292.362 292.362\" class=\"_15dTgu9THhTaL48TdTx2k3 \"><path d=\"M286.935 69.377c-3.614-3.617-7.898-5.424-12.848-5.424H18.274c-4.952 0-9.233 1.807-12.85 5.424C1.807 72.998 0 77.279 0 82.228c0 4.948 1.807 9.229 5.424 12.847l127.907 127.907c3.621 3.617 7.902 5.428 12.85 5.428s9.233-1.811 12.847-5.428L286.935 95.074c3.613-3.617 5.427-7.898 5.427-12.847 0-4.948-1.814-9.229-5.427-12.85z\"></path></svg></div><div class=\"zivFQjmC9WqYkXdfV0yzj\"><div class=\"muXRMGb-AUwxOj6rJFfLo\"><p class=\"_3nVuYIxRwVvifJRcbJqRO7\">Similar to Hint #2, realize that the remove() method can be used to implement the removeNodesWithValue() method as well as parts of the insertBefore() and insertAfter() methods; make sure that the remove() method handles edge cases regarding the head and the tail.</p></div></div></div></div><div class=\"_1CnYFH5mCs_em2ULQwl3b6\"><div class=\"\n",
    "      _1VvXmFnpq4iPxDhESut7pI\n",
    "      _1HKN-_bYEv_Mc-d8YNb5X_\n",
    "      \n",
    "      \" tabindex=\"0\"><div class=\"\n",
    "      _33sd_eSCKqK8t8nNq3LSLo\n",
    "      _3iUxNLNNLGrkmHHXfoMl3k\"><div class=\"ZJR57Wab0YgvbpuaANvGk\">Optimal Space &amp; Time Complexity</div><svg xmlns=\"http://www.w3.org/2000/svg\" fill=\"currentColor\" viewBox=\"0 0 292.362 292.362\" class=\"_15dTgu9THhTaL48TdTx2k3 \"><path d=\"M286.935 69.377c-3.614-3.617-7.898-5.424-12.848-5.424H18.274c-4.952 0-9.233 1.807-12.85 5.424C1.807 72.998 0 77.279 0 82.228c0 4.948 1.807 9.229 5.424 12.847l127.907 127.907c3.621 3.617 7.902 5.428 12.85 5.428s9.233-1.811 12.847-5.428L286.935 95.074c3.613-3.617 5.427-7.898 5.427-12.847 0-4.948-1.814-9.229-5.427-12.85z\"></path></svg></div><div class=\"zivFQjmC9WqYkXdfV0yzj\"><div class=\"muXRMGb-AUwxOj6rJFfLo\"><p class=\"_3nVuYIxRwVvifJRcbJqRO7\">setHead, setTail, insertBefore, insertAfter, and remove: O(1) time | O(1) space\n",
    "insertAtPosition: O(p) time | O(1) space - where p is input position\n",
    "removeNodesWithValue, containsNodeWithValue: O(n) time | O(1) space - where n is the number of nodes in the linked list\n",
    "</p></div></div></div></div></div>"
   ]
  },
  {
   "cell_type": "markdown",
   "metadata": {},
   "source": [
    "<div class=\"\n",
    "      _33sd_eSCKqK8t8nNq3LSLo\n",
    "      _3iUxNLNNLGrkmHHXfoMl3k\"><div class=\"ZJR57Wab0YgvbpuaANvGk\">Hint 1</div><svg xmlns=\"http://www.w3.org/2000/svg\" fill=\"currentColor\" viewBox=\"0 0 292.362 292.362\" class=\"_15dTgu9THhTaL48TdTx2k3 _2rzizu_ekaPdwoD6PCvMPH\"><path d=\"M286.935 69.377c-3.614-3.617-7.898-5.424-12.848-5.424H18.274c-4.952 0-9.233 1.807-12.85 5.424C1.807 72.998 0 77.279 0 82.228c0 4.948 1.807 9.229 5.424 12.847l127.907 127.907c3.621 3.617 7.902 5.428 12.85 5.428s9.233-1.811 12.847-5.428L286.935 95.074c3.613-3.617 5.427-7.898 5.427-12.847 0-4.948-1.814-9.229-5.427-12.85z\"></path></svg></div>\n",
    "<div class=\"zivFQjmC9WqYkXdfV0yzj\" style=\"transition-duration: 0.4s; height: auto;\"><div class=\"muXRMGb-AUwxOj6rJFfLo\"><p class=\"_3nVuYIxRwVvifJRcbJqRO7\">When dealing with linked lists, it's very important to keep track of pointers on nodes (i.e., the \"next\" and \"prev\" properties on the nodes). For instance, if you're inserting a node in a linked list, but that node is already located somewhere else in the linked list (in other words, if you're moving a node), it's crucial to completely update the pointers of the adjacent nodes of the node being moved before updating the node's own pointers. The order in which you update nodes' pointers will make or break your algorithm.</p></div></div>"
   ]
  },
  {
   "cell_type": "markdown",
   "metadata": {},
   "source": [
    "<div class=\"ZJR57Wab0YgvbpuaANvGk\">Hint 2</div><svg xmlns=\"http://www.w3.org/2000/svg\" fill=\"currentColor\" viewBox=\"0 0 292.362 292.362\" class=\"_15dTgu9THhTaL48TdTx2k3 _2rzizu_ekaPdwoD6PCvMPH\"><path d=\"M286.935 69.377c-3.614-3.617-7.898-5.424-12.848-5.424H18.274c-4.952 0-9.233 1.807-12.85 5.424C1.807 72.998 0 77.279 0 82.228c0 4.948 1.807 9.229 5.424 12.847l127.907 127.907c3.621 3.617 7.902 5.428 12.85 5.428s9.233-1.811 12.847-5.428L286.935 95.074c3.613-3.617 5.427-7.898 5.427-12.847 0-4.948-1.814-9.229-5.427-12.85z\"></path></svg></div><div class=\"zivFQjmC9WqYkXdfV0yzj\" style=\"transition-duration: 0.3s; height: auto;\"><div class=\"muXRMGb-AUwxOj6rJFfLo\"><p class=\"_3nVuYIxRwVvifJRcbJqRO7\">Realize that the insertBefore() and insertAfter() methods can be used to implement the setHead(), setTail(), and insertAtPosition() methods; making the insertBefore() and insertAfter() methods as robust as possible will simplify your code for the other methods. Make sure to take care of edge cases involving inserting nodes before the head of the linked list or inserting nodes after the tail of the linked list.</p></div></div></div></div>"
   ]
  },
  {
   "cell_type": "markdown",
   "metadata": {},
   "source": [
    "<div class=\"ZJR57Wab0YgvbpuaANvGk\">Hint 3</div><svg xmlns=\"http://www.w3.org/2000/svg\" fill=\"currentColor\" viewBox=\"0 0 292.362 292.362\" class=\"_15dTgu9THhTaL48TdTx2k3 \"><path d=\"M286.935 69.377c-3.614-3.617-7.898-5.424-12.848-5.424H18.274c-4.952 0-9.233 1.807-12.85 5.424C1.807 72.998 0 77.279 0 82.228c0 4.948 1.807 9.229 5.424 12.847l127.907 127.907c3.621 3.617 7.902 5.428 12.85 5.428s9.233-1.811 12.847-5.428L286.935 95.074c3.613-3.617 5.427-7.898 5.427-12.847 0-4.948-1.814-9.229-5.427-12.85z\"></path></svg></div><div class=\"zivFQjmC9WqYkXdfV0yzj\"><div class=\"muXRMGb-AUwxOj6rJFfLo\"><p class=\"_3nVuYIxRwVvifJRcbJqRO7\">Similar to Hint #2, realize that the remove() method can be used to implement the removeNodesWithValue() method as well as parts of the insertBefore() and insertAfter() methods; make sure that the remove() method handles edge cases regarding the head and the tail.</p></div></div></div>"
   ]
  },
  {
   "cell_type": "code",
   "execution_count": null,
   "metadata": {},
   "outputs": [],
   "source": [
    "# This is an input class. Do not edit.\n",
    "class Node:\n",
    "    def __init__(self, value):\n",
    "        self.value = value\n",
    "        self.prev = None\n",
    "        self.next = None\n",
    "\n",
    "\n",
    "# Feel free to add new properties and methods to the class.\n",
    "class DoublyLinkedList:\n",
    "    def __init__(self):\n",
    "        self.head = None\n",
    "        self.tail = None\n",
    "\n",
    "    def setHead(self, node):\n",
    "        # Write your code here.\n",
    "        pass\n",
    "\n",
    "    def setTail(self, node):\n",
    "        # Write your code here.\n",
    "        pass\n",
    "\n",
    "    def insertBefore(self, node, nodeToInsert):\n",
    "        # Write your code here.\n",
    "        pass\n",
    "\n",
    "    def insertAfter(self, node, nodeToInsert):\n",
    "        # Write your code here.\n",
    "        pass\n",
    "\n",
    "    def insertAtPosition(self, position, nodeToInsert):\n",
    "        # Write your code here.\n",
    "        pass\n",
    "\n",
    "    def removeNodesWithValue(self, value):\n",
    "        # Write your code here.\n",
    "        pass\n",
    "\n",
    "    def remove(self, node):\n",
    "        # Write your code here.\n",
    "        pass\n",
    "\n",
    "    def containsNodeWithValue(self, value):\n",
    "        # Write your code here.\n",
    "        pass\n"
   ]
  }
 ],
 "metadata": {
  "kernelspec": {
   "display_name": "Python 3",
   "language": "python",
   "name": "python3"
  },
  "language_info": {
   "codemirror_mode": {
    "name": "ipython",
    "version": 3
   },
   "file_extension": ".py",
   "mimetype": "text/x-python",
   "name": "python",
   "nbconvert_exporter": "python",
   "pygments_lexer": "ipython3",
   "version": "3.7.4"
  }
 },
 "nbformat": 4,
 "nbformat_minor": 2
}
