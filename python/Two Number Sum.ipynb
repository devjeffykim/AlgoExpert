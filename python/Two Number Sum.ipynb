{
 "cells": [
  {
   "cell_type": "code",
   "execution_count": null,
   "metadata": {},
   "outputs": [],
   "source": [
    "\n",
    "  Write a function that takes in a non-empty array of distinct integers and an\n",
    "  integer representing a target sum. If any two numbers in the input array sum\n",
    "  up to the target sum, the function should return them in an array, in any\n",
    "  order. If no two numbers sum up to the target sum, the function should return\n",
    "  an empty array.\n"
   ]
  },
  {
   "cell_type": "code",
   "execution_count": 19,
   "metadata": {},
   "outputs": [],
   "source": [
    "def twoNumberSum(array, targetSum):\n",
    "    output = []\n",
    "    for i in range(len(array)):\n",
    "        first = array[i]\n",
    "        for j in range(i+1,len(array)):\n",
    "            second = array[j]\n",
    "            test_sum = first+second\n",
    "            if test_sum == targetSum:\n",
    "                output =  [first, second]\n",
    "                break;\n",
    "                \n",
    "                \n",
    "    return output\n"
   ]
  },
  {
   "cell_type": "code",
   "execution_count": 17,
   "metadata": {},
   "outputs": [],
   "source": [
    "def twoNumberSum(array, targetSum):\n",
    "    y_values = {}\n",
    "    for num in array:\n",
    "        y = targetSum-num\n",
    "        if y in y_values:\n",
    "            return [num, y]\n",
    "        else:\n",
    "            y_values[num] = True\n",
    "    return []\n"
   ]
  },
  {
   "cell_type": "code",
   "execution_count": null,
   "metadata": {},
   "outputs": [],
   "source": [
    "def twoNumberSum(array, targetSum):\n",
    "    # Write your code here.\n",
    "\tarray.sort()\n",
    "\tleft_index = 0\n",
    "\tright_index = len(array)-1\n",
    "\twhile left_index < right_index:\n",
    "\t\tcurrent_sum = array[left_index] + array[right_index]\n",
    "\t\tif current_sum == targetSum:\n",
    "\t\t\t\n",
    "\t\t\treturn [array[left_index], array[right_index]]\n",
    "\t\t\n",
    "\t\telif current_sum < targetSum:\n",
    "\t\t\tleft_index += 1\n",
    "\t\telif current_sum > targetSum:\n",
    "\t\t\tright_index -= 1\n",
    "\treturn []\n"
   ]
  },
  {
   "cell_type": "code",
   "execution_count": 20,
   "metadata": {},
   "outputs": [
    {
     "name": "stderr",
     "output_type": "stream",
     "text": [
      "test_case_1 (__main__.TestProgram) ... ok\n",
      "test_case_10 (__main__.TestProgram) ... ok\n",
      "test_case_2 (__main__.TestProgram) ... ok\n",
      "test_case_3 (__main__.TestProgram) ... ok\n",
      "test_case_4 (__main__.TestProgram) ... ok\n",
      "test_case_5 (__main__.TestProgram) ... ok\n",
      "test_case_6 (__main__.TestProgram) ... ok\n",
      "test_case_7 (__main__.TestProgram) ... ok\n",
      "test_case_8 (__main__.TestProgram) ... ok\n",
      "test_case_9 (__main__.TestProgram) ... ok\n",
      "\n",
      "----------------------------------------------------------------------\n",
      "Ran 10 tests in 0.005s\n",
      "\n",
      "OK\n"
     ]
    }
   ],
   "source": [
    "# Add, edit, or remove tests in this file.\n",
    "# Treat it as your playground!\n",
    "\n",
    "\n",
    "import unittest\n",
    "\n",
    "\n",
    "class TestProgram(unittest.TestCase):\n",
    "    def test_case_1(self):\n",
    "        output = sorted(twoNumberSum([4, 6], 10))\n",
    "        self.assertEqual(output, [4, 6])\n",
    "\n",
    "    def test_case_2(self):\n",
    "        output = sorted(twoNumberSum([4, 6, 1], 5))\n",
    "        self.assertEqual(output, [1, 4])\n",
    "\n",
    "    def test_case_3(self):\n",
    "        output = sorted(twoNumberSum([4, 6, 1, -3], 3))\n",
    "        self.assertEqual(output, [-3, 6])\n",
    "\n",
    "    def test_case_4(self):\n",
    "        output = sorted(twoNumberSum([3, 5, -4, 8, 11, 1, -1, 6], 10))\n",
    "        self.assertEqual(output, [-1, 11])\n",
    "\n",
    "    def test_case_5(self):\n",
    "        output = sorted(twoNumberSum([1, 2, 3, 4, 5, 6, 7, 8, 9], 17))\n",
    "        self.assertEqual(output, [8, 9])\n",
    "\n",
    "    def test_case_6(self):\n",
    "        output = sorted(twoNumberSum([1, 2, 3, 4, 5, 6, 7, 8, 9, 15], 18))\n",
    "        self.assertEqual(output, [3, 15])\n",
    "\n",
    "    def test_case_7(self):\n",
    "        output = sorted(twoNumberSum([-7, -5, -3, -1, 0, 1, 3, 5, 7], -5))\n",
    "        self.assertEqual(output, [-5, 0])\n",
    "\n",
    "    def test_case_8(self):\n",
    "        output = sorted(twoNumberSum([-21, 301, 12, 4, 65, 56, 210, 356, 9, -47], 163))\n",
    "        self.assertEqual(output, [-47, 210])\n",
    "\n",
    "    def test_case_9(self):\n",
    "        output = sorted(twoNumberSum([-21, 301, 12, 4, 65, 56, 210, 356, 9, -47], 164))\n",
    "        self.assertEqual(output, [])\n",
    "\n",
    "    def test_case_10(self):\n",
    "        output = sorted(twoNumberSum([3, 5, -4, 8, 11, 1, -1, 6], 15))\n",
    "        self.assertEqual(output, [])\n",
    "\n",
    "if __name__ == \"__main__\":\n",
    "    unittest.main(argv=['first-arg-is-ignored'], exit=False,verbosity=2)"
   ]
  },
  {
   "cell_type": "markdown",
   "metadata": {},
   "source": [
    "Hint 1:\n",
    "    Try using two for loops to sum all possible pairs of numbers in the input array. whare are the time and space implications of this approach?\n",
    "    \n"
   ]
  },
  {
   "cell_type": "markdown",
   "metadata": {},
   "source": [
    "Hint 2: Release that for every number X in the input array, you are essentially trying to find a corresponding Y such that X+Y = targetSum. With two variables in this equation known to you, it shouldn't be hard to solve for Y."
   ]
  },
  {
   "cell_type": "markdown",
   "metadata": {},
   "source": [
    "Hint 3: Try storing every number in a has table, solving the equation mentioned in Hint #2 for every number, and checking if the Y that you find is stored in the has table. Whare the time and space implactions of this approach?"
   ]
  },
  {
   "cell_type": "code",
   "execution_count": null,
   "metadata": {},
   "outputs": [],
   "source": []
  }
 ],
 "metadata": {
  "kernelspec": {
   "display_name": "Python 3",
   "language": "python",
   "name": "python3"
  },
  "language_info": {
   "codemirror_mode": {
    "name": "ipython",
    "version": 3
   },
   "file_extension": ".py",
   "mimetype": "text/x-python",
   "name": "python",
   "nbconvert_exporter": "python",
   "pygments_lexer": "ipython3",
   "version": "3.7.4"
  }
 },
 "nbformat": 4,
 "nbformat_minor": 2
}
