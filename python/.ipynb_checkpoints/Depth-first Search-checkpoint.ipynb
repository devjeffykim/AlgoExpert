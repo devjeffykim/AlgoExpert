{
 "cells": [
  {
   "cell_type": "markdown",
   "metadata": {},
   "source": [
    "<div class=\"_2jZTzmL4QeyFli2evn3qXg\"><p>\n",
    "  You're given a <span>Node</span> class that has a <span>name</span> and an\n",
    "  array of optional <span>children</span> nodes. When put together, nodes form\n",
    "  an acyclic tree-like structure.\n",
    "</p>\n",
    "<p>\n",
    "  Implement the <span>depthFirstSearch</span> method on the\n",
    "  <span>Node</span> class, which takes in an empty array, traverses the tree\n",
    "  using the Depth-first Search approach (specifically navigating the tree from\n",
    "  left to right), stores all of the nodes' names in the input array, and returns\n",
    "  it.\n",
    "</p>\n",
    "<p>\n",
    "  If you're unfamiliar with Depth-first Search, we recommend watching the\n",
    "  Conceptual Overview section of this question's video explanation before\n",
    "  starting to code.\n",
    "</p>\n",
    "<h3>Sample Input</h3>\n",
    "<pre><span class=\"CodeEditor-promptParameter\">graph</span> = A\n",
    "     /  |  \\\n",
    "    B   C   D\n",
    "   / \\     / \\\n",
    "  E   F   G   H\n",
    "     / \\   \\\n",
    "    I   J   K\n",
    "</pre>\n",
    "<h3>Sample Output</h3>\n",
    "<pre>[\"A\", \"B\", \"E\", \"F\", \"I\", \"J\", \"C\", \"D\", \"G\", \"K\", \"H\"]\n",
    "</pre>\n",
    "</div>"
   ]
  },
  {
   "cell_type": "markdown",
   "metadata": {},
   "source": [
    "<div class=\"aHEBHnsEqYwHLYwlr4lZg\"><h3 class=\"_17HgLmZQsO1vweWcAMvE31\">Hints</h3><div class=\"_1CnYFH5mCs_em2ULQwl3b6\"><div class=\"\n",
    "      _1hH8ZISLvXsf13iPLSlhb\n",
    "      JTSqCjQ07wP6vIz7vfFcX\n",
    "      \" tabindex=\"0\"><div class=\"\n",
    "      _2HaDIwDUItYJqs3V-vAas3\n",
    "      _2KkjqymaoVsNU_QIKbAnp7\"><span>Hint 1</span><svg xmlns=\"http://www.w3.org/2000/svg\" fill=\"currentColor\" viewBox=\"0 0 292.362 292.362\" class=\"_3W4BNWAoPumm6HQqjDeZxe \"><path d=\"M286.935 69.377c-3.614-3.617-7.898-5.424-12.848-5.424H18.274c-4.952 0-9.233 1.807-12.85 5.424C1.807 72.998 0 77.279 0 82.228c0 4.948 1.807 9.229 5.424 12.847l127.907 127.907c3.621 3.617 7.902 5.428 12.85 5.428s9.233-1.811 12.847-5.428L286.935 95.074c3.613-3.617 5.427-7.898 5.427-12.847 0-4.948-1.814-9.229-5.427-12.85z\"></path></svg></div><div class=\"_3qcscihxUSlBT3ywIMap5K\"><p class=\"_3nVuYIxRwVvifJRcbJqRO7\">The Depth-first Search algorithm works by traversing a graph branch by branch. In other words, before traversing any Node's sibling Nodes, its children nodes must be traversed. How can you simply and effectively keep track of Nodes' sibling Nodes as you traverse them, all the while retaining the order in which you must traverse them?</p></div></div></div>\n",
    "</p></div></div></div></div>"
   ]
  },
  {
   "cell_type": "code",
   "execution_count": 1,
   "metadata": {},
   "outputs": [],
   "source": [
    "# Do not edit the class below except\n",
    "# for the depthFirstSearch method.\n",
    "# Feel free to add new properties\n",
    "# and methods to the class.\n",
    "class Node:\n",
    "    def __init__(self, name):\n",
    "        self.children = []\n",
    "        self.name = name\n",
    "\n",
    "    def addChild(self, name):\n",
    "        self.children.append(Node(name))\n",
    "        return self\n",
    "\n",
    "    def depthFirstSearch(self, array):\n",
    "        if array == []:\n",
    "            array.append(self.name)\n",
    "\n",
    "        if self.children is None:\n",
    "            array.append(self.name)\n",
    "            return\n",
    "        for children in self.children:\n",
    "            array.append(children.name)\n",
    "            children.depthFirstSearch(array)\n",
    "\n",
    "        return array\n"
   ]
  },
  {
   "cell_type": "markdown",
   "metadata": {},
   "source": [
    "<div class=\"_1CnYFH5mCs_em2ULQwl3b6\"><div class=\"\n",
    "      _1hH8ZISLvXsf13iPLSlhb\n",
    "      JTSqCjQ07wP6vIz7vfFcX\n",
    "      \" tabindex=\"0\"><div class=\"\n",
    "      _2HaDIwDUItYJqs3V-vAas3\n",
    "      _2KkjqymaoVsNU_QIKbAnp7\"><span>Hint 2</span><svg xmlns=\"http://www.w3.org/2000/svg\" fill=\"currentColor\" viewBox=\"0 0 292.362 292.362\" class=\"_3W4BNWAoPumm6HQqjDeZxe \"><path d=\"M286.935 69.377c-3.614-3.617-7.898-5.424-12.848-5.424H18.274c-4.952 0-9.233 1.807-12.85 5.424C1.807 72.998 0 77.279 0 82.228c0 4.948 1.807 9.229 5.424 12.847l127.907 127.907c3.621 3.617 7.902 5.428 12.85 5.428s9.233-1.811 12.847-5.428L286.935 95.074c3.613-3.617 5.427-7.898 5.427-12.847 0-4.948-1.814-9.229-5.427-12.85z\"></path></svg></div><div class=\"_3qcscihxUSlBT3ywIMap5K\"><p class=\"_3nVuYIxRwVvifJRcbJqRO7\">Start at the root Node and try simply calling the depthFirstSearch method on all of its children Nodes. Then, call the depthFirstSearch method on all children Nodes of each child node. Keep applying this logic until the entire graph has been traversed. Don't forget to add the current Node's name to the input array at every call of depthFirstSearch.</p></div></div></div><div class=\"_1CnYFH5mCs_em2ULQwl3b6\">"
   ]
  },
  {
   "cell_type": "markdown",
   "metadata": {},
   "source": [
    "<span>Optimal Space &amp; Time Complexity</span><svg xmlns=\"http://www.w3.org/2000/svg\" fill=\"currentColor\" viewBox=\"0 0 292.362 292.362\" class=\"_3W4BNWAoPumm6HQqjDeZxe \"><path d=\"M286.935 69.377c-3.614-3.617-7.898-5.424-12.848-5.424H18.274c-4.952 0-9.233 1.807-12.85 5.424C1.807 72.998 0 77.279 0 82.228c0 4.948 1.807 9.229 5.424 12.847l127.907 127.907c3.621 3.617 7.902 5.428 12.85 5.428s9.233-1.811 12.847-5.428L286.935 95.074c3.613-3.617 5.427-7.898 5.427-12.847 0-4.948-1.814-9.229-5.427-12.85z\"></path></svg></div><div class=\"_3qcscihxUSlBT3ywIMap5K\"><p class=\"_3nVuYIxRwVvifJRcbJqRO7\">O(v + e) time | O(v) space - where v is the number of vertices of the input graph and e is the number of edges of the input graph"
   ]
  },
  {
   "cell_type": "code",
   "execution_count": 2,
   "metadata": {},
   "outputs": [],
   "source": [
    "# Do not edit the class below except\n",
    "# for the depthFirstSearch method.\n",
    "# Feel free to add new properties\n",
    "# and methods to the class.\n",
    "\n",
    "#solution\n",
    "class Node:\n",
    "    def __init__(self, name):\n",
    "        self.children = []\n",
    "        self.name = name\n",
    "\n",
    "    def addChild(self, name):\n",
    "        self.children.append(Node(name))\n",
    "        return self\n",
    "\n",
    "    def depthFirstSearch(self, array):\n",
    "\t\tif array == []:\n",
    "\t\t\tarray.append(self.name)\n",
    "\t\t\t\n",
    "\t\tif self.children is None:\n",
    "\t\t\tarray.append(self.name)\n",
    "\t\t\treturn\n",
    "\t\t\n",
    "\t\tfor children in self.children:\n",
    "\t\t\tarray.append(children.name)\n",
    "\t\t\tchildren.depthFirstSearch(array)\n",
    "\t\t\t\n",
    "\t\treturn array\n"
   ]
  },
  {
   "cell_type": "code",
   "execution_count": null,
   "metadata": {},
   "outputs": [],
   "source": []
  }
 ],
 "metadata": {
  "kernelspec": {
   "display_name": "Python 3",
   "language": "python",
   "name": "python3"
  },
  "language_info": {
   "codemirror_mode": {
    "name": "ipython",
    "version": 3
   },
   "file_extension": ".py",
   "mimetype": "text/x-python",
   "name": "python",
   "nbconvert_exporter": "python",
   "pygments_lexer": "ipython3",
   "version": "3.7.4"
  }
 },
 "nbformat": 4,
 "nbformat_minor": 2
}
