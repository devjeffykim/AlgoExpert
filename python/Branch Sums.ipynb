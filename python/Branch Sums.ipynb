{
 "cells": [
  {
   "cell_type": "markdown",
   "metadata": {},
   "source": [
    "<div class=\"_2jZTzmL4QeyFli2evn3qXg\"><p>\n",
    "  Write a function that takes in a Binary Tree and returns a list of its branch\n",
    "  sums ordered from leftmost branch sum to rightmost branch sum.\n",
    "</p>\n",
    "<p>\n",
    "  A branch sum is the sum of all values in a Binary Tree branch. A Binary Tree\n",
    "  branch is a path of nodes in a tree that starts at the root node and ends at\n",
    "  any leaf node.\n",
    "</p>\n",
    "<p>\n",
    "  Each <span>BinaryTree</span> node has an integer <span>value</span>, a\n",
    "  <span>left</span> child node, and a <span>right</span> child node. Children\n",
    "  nodes can either be <span>BinaryTree</span> nodes themselves or\n",
    "  <span>None</span> / <span>null</span>.\n",
    "</p>\n",
    "<h3>Sample Input</h3>\n",
    "<pre><span class=\"CodeEditor-promptParameter\">tree</span> =     1\n",
    "        /     \\\n",
    "       2       3\n",
    "     /   \\    /  \\\n",
    "    4     5  6    7\n",
    "  /   \\  /\n",
    " 8    9 10\n",
    "</pre>\n",
    "<h3>Sample Output</h3>\n",
    "<pre>[15, 16, 18, 10, 11]</pre>\n",
    "</div>\n",
    "<div class=\"aHEBHnsEqYwHLYwlr4lZg\"><h3 class=\"_17HgLmZQsO1vweWcAMvE31\">Hints</h3><div class=\"_1CnYFH5mCs_em2ULQwl3b6\"></div></div></div>"
   ]
  },
  {
   "cell_type": "markdown",
   "metadata": {},
   "source": [
    "<div class=\"\n",
    "      _1hH8ZISLvXsf13iPLSlhb\n",
    "      JTSqCjQ07wP6vIz7vfFcX\n",
    "      \" tabindex=\"0\"><div class=\"\n",
    "      _2HaDIwDUItYJqs3V-vAas3\n",
    "      _2KkjqymaoVsNU_QIKbAnp7\"><span>Hint 1</span><svg xmlns=\"http://www.w3.org/2000/svg\" fill=\"currentColor\" viewBox=\"0 0 292.362 292.362\" class=\"_3W4BNWAoPumm6HQqjDeZxe \"><path d=\"M286.935 69.377c-3.614-3.617-7.898-5.424-12.848-5.424H18.274c-4.952 0-9.233 1.807-12.85 5.424C1.807 72.998 0 77.279 0 82.228c0 4.948 1.807 9.229 5.424 12.847l127.907 127.907c3.621 3.617 7.902 5.428 12.85 5.428s9.233-1.811 12.847-5.428L286.935 95.074c3.613-3.617 5.427-7.898 5.427-12.847 0-4.948-1.814-9.229-5.427-12.85z\"></path></svg></div><div class=\"_3qcscihxUSlBT3ywIMap5K\"><p class=\"_3nVuYIxRwVvifJRcbJqRO7\">Try traversing the Binary Tree in a depth-first-search-like fashion.</p></div></div></div><div class=\"_1CnYFH5mCs_em2ULQwl3b6\"><div class=\"\n",
    "      _1hH8ZISLvXsf13iPLSlhb\n",
    "      JTSqCjQ07wP6vIz7vfFcX\n",
    "      \" tabindex=\"0\">"
   ]
  },
  {
   "cell_type": "code",
   "execution_count": 30,
   "metadata": {},
   "outputs": [
    {
     "ename": "SyntaxError",
     "evalue": "invalid syntax (<ipython-input-30-696a460ccc2a>, line 14)",
     "output_type": "error",
     "traceback": [
      "\u001b[1;36m  File \u001b[1;32m\"<ipython-input-30-696a460ccc2a>\"\u001b[1;36m, line \u001b[1;32m14\u001b[0m\n\u001b[1;33m    elif tree.right == None:\u001b[0m\n\u001b[1;37m       ^\u001b[0m\n\u001b[1;31mSyntaxError\u001b[0m\u001b[1;31m:\u001b[0m invalid syntax\n"
     ]
    }
   ],
   "source": [
    "def branchSums(tree):\n",
    "    return helper(tree,0)\n",
    "\n",
    "def helper(tree, branch_sum):\n",
    "    \n",
    "    if tree is None:\n",
    "        return \n",
    "    \n",
    "    if tree.left == None and tree.right==None:\n",
    "        return [tree.value + branch_sum]\n",
    "\n",
    "    list_sums= []\n",
    "    \n",
    "    elif tree.right == None:\n",
    "\n",
    "        left_tree = helper(tree.left, branch_sum+tree.value)\n",
    "        list_sums+=left_tree\n",
    "    elif tree.left == None:\n",
    "        right_tree = helper(tree.right, branch_sum+tree.value)\n",
    "        list_sums+=right_tree\n",
    "        \n",
    "    else:\n",
    "        \n",
    "        left_tree = helper(tree.left, branch_sum+tree.value)\n",
    "        right_tree = helper(tree.right, branch_sum+tree.value)\n",
    "        list_sums = list_sums +left_tree+right_tree\n",
    "        return list_sums"
   ]
  },
  {
   "cell_type": "markdown",
   "metadata": {},
   "source": [
    "<div class=\"\n",
    "      _2HaDIwDUItYJqs3V-vAas3\n",
    "      _2KkjqymaoVsNU_QIKbAnp7\"><span>Hint 2</span><svg xmlns=\"http://www.w3.org/2000/svg\" fill=\"currentColor\" viewBox=\"0 0 292.362 292.362\" class=\"_3W4BNWAoPumm6HQqjDeZxe \"><path d=\"M286.935 69.377c-3.614-3.617-7.898-5.424-12.848-5.424H18.274c-4.952 0-9.233 1.807-12.85 5.424C1.807 72.998 0 77.279 0 82.228c0 4.948 1.807 9.229 5.424 12.847l127.907 127.907c3.621 3.617 7.902 5.428 12.85 5.428s9.233-1.811 12.847-5.428L286.935 95.074c3.613-3.617 5.427-7.898 5.427-12.847 0-4.948-1.814-9.229-5.427-12.85z\"></path></svg></div><div class=\"_3qcscihxUSlBT3ywIMap5K\"><p class=\"_3nVuYIxRwVvifJRcbJqRO7\">Recursively traverse the Binary Tree in a depth-first-search-like fashion, and pass a running sum of the values of every previously-visited node to each node that you're traversing.</p></div></div></div><div class=\"_1CnYFH5mCs_em2ULQwl3b6\"><div class=\"\n",
    "      _1hH8ZISLvXsf13iPLSlhb\n",
    "      JTSqCjQ07wP6vIz7vfFcX\n",
    "      \" tabindex=\"0\">"
   ]
  },
  {
   "cell_type": "code",
   "execution_count": null,
   "metadata": {},
   "outputs": [],
   "source": []
  },
  {
   "cell_type": "markdown",
   "metadata": {},
   "source": [
    "<div class=\"\n",
    "      _2HaDIwDUItYJqs3V-vAas3\n",
    "      _2KkjqymaoVsNU_QIKbAnp7\"><span>Hint 3</span><svg xmlns=\"http://www.w3.org/2000/svg\" fill=\"currentColor\" viewBox=\"0 0 292.362 292.362\" class=\"_3W4BNWAoPumm6HQqjDeZxe \"><path d=\"M286.935 69.377c-3.614-3.617-7.898-5.424-12.848-5.424H18.274c-4.952 0-9.233 1.807-12.85 5.424C1.807 72.998 0 77.279 0 82.228c0 4.948 1.807 9.229 5.424 12.847l127.907 127.907c3.621 3.617 7.902 5.428 12.85 5.428s9.233-1.811 12.847-5.428L286.935 95.074c3.613-3.617 5.427-7.898 5.427-12.847 0-4.948-1.814-9.229-5.427-12.85z\"></path></svg></div><div class=\"_3qcscihxUSlBT3ywIMap5K\"><p class=\"_3nVuYIxRwVvifJRcbJqRO7\">As you recursively traverse the tree, if you reach a leaf node (a node with no \"left\" or \"right\" Binary Tree nodes), add the relevant running sum that you've calculated to a list of sums (which you'll also have to pass to the recursive function). If you reach a node that isn't a leaf node, keep recursively traversing its children nodes, passing the correctly updated running sum to them.</p></div></div></div><div class=\"_1CnYFH5mCs_em2ULQwl3b6\">"
   ]
  },
  {
   "cell_type": "code",
   "execution_count": 35,
   "metadata": {},
   "outputs": [],
   "source": [
    "# This is the class of the input root. Do not edit it.\n",
    "class BinaryTree:\n",
    "    def __init__(self, value):\n",
    "        self.value = value\n",
    "        self.left = None\n",
    "        self.right = None\n",
    "\n",
    "\n",
    "def branchSums(root):\n",
    "\n",
    "    list_sums = []\n",
    "    helper(root,0,list_sums)\n",
    "    return list_sums\n",
    "\n",
    "def helper(tree, branch_sum,  list_sums):\n",
    "    if tree is None:\n",
    "        return\n",
    "    if tree.left is None and tree.right is None:\n",
    "        list_sums.append(branch_sum+tree.value)\n",
    "        return\n",
    "    new_sum = branch_sum+tree.value\n",
    "    helper(tree.left, new_sum, list_sums)\n",
    "    helper(tree.right, new_sum, list_sums)"
   ]
  },
  {
   "cell_type": "markdown",
   "metadata": {},
   "source": [
    "<div class=\"\n",
    "      _1hH8ZISLvXsf13iPLSlhb\n",
    "      JTSqCjQ07wP6vIz7vfFcX\n",
    "      \" tabindex=\"0\"><div class=\"\n",
    "      _2HaDIwDUItYJqs3V-vAas3\n",
    "      _2KkjqymaoVsNU_QIKbAnp7\"><span>Optimal Space &amp; Time Complexity</span><svg xmlns=\"http://www.w3.org/2000/svg\" fill=\"currentColor\" viewBox=\"0 0 292.362 292.362\" class=\"_3W4BNWAoPumm6HQqjDeZxe \"><path d=\"M286.935 69.377c-3.614-3.617-7.898-5.424-12.848-5.424H18.274c-4.952 0-9.233 1.807-12.85 5.424C1.807 72.998 0 77.279 0 82.228c0 4.948 1.807 9.229 5.424 12.847l127.907 127.907c3.621 3.617 7.902 5.428 12.85 5.428s9.233-1.811 12.847-5.428L286.935 95.074c3.613-3.617 5.427-7.898 5.427-12.847 0-4.948-1.814-9.229-5.427-12.85z\"></path></svg></div><div class=\"_3qcscihxUSlBT3ywIMap5K\"><p class=\"_3nVuYIxRwVvifJRcbJqRO7\">O(n) time | O(n) space - where n is the number of nodes in the Binary Tree\n",
    "</p></div>"
   ]
  },
  {
   "cell_type": "code",
   "execution_count": 36,
   "metadata": {},
   "outputs": [
    {
     "name": "stderr",
     "output_type": "stream",
     "text": [
      "test_case_1 (__main__.TestProgram) ... ok\n",
      "test_case_2 (__main__.TestProgram) ... ok\n",
      "test_case_3 (__main__.TestProgram) ... ok\n",
      "test_case_4 (__main__.TestProgram) ... ok\n",
      "test_case_5 (__main__.TestProgram) ... ok\n",
      "test_case_6 (__main__.TestProgram) ... ok\n",
      "test_case_7 (__main__.TestProgram) ... ok\n",
      "test_case_8 (__main__.TestProgram) ... ok\n",
      "test_case_9 (__main__.TestProgram) ... ok\n",
      "\n",
      "----------------------------------------------------------------------\n",
      "Ran 9 tests in 0.004s\n",
      "\n",
      "OK\n"
     ]
    }
   ],
   "source": [
    "# Add, edit, or remove tests in this file.\n",
    "# Treat it as your playground!\n",
    "\n",
    "\n",
    "import unittest\n",
    "\n",
    "\n",
    "class TestProgram(unittest.TestCase):\n",
    "    def test_case_1(self):\n",
    "        tree = BinaryTree(1)\n",
    "        self.assertEqual(branchSums(tree), [1])\n",
    "\n",
    "    def test_case_2(self):\n",
    "        tree = BinaryTree(1).insert([2])\n",
    "        self.assertEqual(branchSums(tree), [3])\n",
    "\n",
    "    def test_case_3(self):\n",
    "        tree = BinaryTree(1).insert([2, 3])\n",
    "        self.assertEqual(branchSums(tree), [3, 4])\n",
    "\n",
    "    def test_case_4(self):\n",
    "        tree = BinaryTree(1).insert([2, 3, 4, 5])\n",
    "        self.assertEqual(branchSums(tree), [7, 8, 4])\n",
    "\n",
    "    def test_case_5(self):\n",
    "        tree = BinaryTree(1).insert([2, 3, 4, 5, 6, 7, 8, 9, 10])\n",
    "        self.assertEqual(branchSums(tree), [15, 16, 18, 10, 11])\n",
    "\n",
    "    def test_case_6(self):\n",
    "        tree = BinaryTree(1).insert([2, 3, 4, 5, 6, 7, 8, 9, 10, 1, 1, 1])\n",
    "        self.assertEqual(branchSums(tree), [15, 16, 18, 9, 11, 11, 11])\n",
    "\n",
    "    def test_case_7(self):\n",
    "        tree = BinaryTree(0)\n",
    "        tree.left = BinaryTree(1)\n",
    "        tree.left.left = BinaryTree(10)\n",
    "        tree.left.left.left = BinaryTree(100)\n",
    "        self.assertEqual(branchSums(tree), [111])\n",
    "\n",
    "    def test_case_8(self):\n",
    "        tree = BinaryTree(0)\n",
    "        tree.right = BinaryTree(1)\n",
    "        tree.right.right = BinaryTree(10)\n",
    "        tree.right.right.right = BinaryTree(100)\n",
    "        self.assertEqual(branchSums(tree), [111])\n",
    "\n",
    "    def test_case_9(self):\n",
    "        tree = BinaryTree(0)\n",
    "        tree.left = BinaryTree(9)\n",
    "        tree.right = BinaryTree(1)\n",
    "        tree.right.left = BinaryTree(15)\n",
    "        tree.right.right = BinaryTree(10)\n",
    "        tree.right.right.left = BinaryTree(100)\n",
    "        tree.right.right.right = BinaryTree(200)\n",
    "        self.assertEqual(branchSums(tree), [9, 16, 111, 211])\n",
    "class BinaryTree:\n",
    "    def __init__(self, value):\n",
    "        self.value = value\n",
    "        self.left = None\n",
    "        self.right = None\n",
    "\n",
    "\n",
    "\n",
    "class BinaryTree(BinaryTree):\n",
    "    def insert(self, values, i=0):\n",
    "        if i >= len(values):\n",
    "            return\n",
    "        queue = [self]\n",
    "        while len(queue) > 0:\n",
    "            current = queue.pop(0)\n",
    "            if current.left is None:\n",
    "                current.left = BinaryTree(values[i])\n",
    "                break\n",
    "            queue.append(current.left)\n",
    "            if current.right is None:\n",
    "                current.right = BinaryTree(values[i])\n",
    "                break\n",
    "            queue.append(current.right)\n",
    "        self.insert(values, i + 1)\n",
    "        return self\n",
    "if __name__ == \"__main__\":\n",
    "    unittest.main(argv=['first-arg-is-ignored'], exit=False,verbosity=2)"
   ]
  },
  {
   "cell_type": "code",
   "execution_count": null,
   "metadata": {},
   "outputs": [],
   "source": []
  },
  {
   "cell_type": "code",
   "execution_count": null,
   "metadata": {},
   "outputs": [],
   "source": []
  }
 ],
 "metadata": {
  "kernelspec": {
   "display_name": "Python 3",
   "language": "python",
   "name": "python3"
  },
  "language_info": {
   "codemirror_mode": {
    "name": "ipython",
    "version": 3
   },
   "file_extension": ".py",
   "mimetype": "text/x-python",
   "name": "python",
   "nbconvert_exporter": "python",
   "pygments_lexer": "ipython3",
   "version": "3.7.4"
  }
 },
 "nbformat": 4,
 "nbformat_minor": 2
}
